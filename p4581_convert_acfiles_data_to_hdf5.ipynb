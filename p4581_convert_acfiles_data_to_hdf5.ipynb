{
 "cells": [
  {
   "cell_type": "code",
   "execution_count": null,
   "id": "9a39e9fc-75b2-41e9-9106-df44aaee8566",
   "metadata": {},
   "outputs": [],
   "source": [
    "import os\n",
    "import numpy as np\n",
    "import tensorflow as tf\n",
    "print(tf.__version__)\n",
    "from scipy.io import loadmat\n",
    "import h5py\n",
    "import functools\n",
    "\n",
    "# %matplotlib widget\n",
    "import matplotlib.pyplot as plt\n",
    "import matplotlib as mpl\n",
    "mpl.rcParams.update({'font.size': 16})\n",
    "mpl.rcParams.update({'font.family': 'serif'})\n",
    "\n",
    "from utils_data import get_ae_data_acfiles_v1\n",
    "\n",
    "TEST_NAME = 'p4581'\n",
    "DATA_DIR = '/misc/projects/criticalstress-ldrd/cwj/public/Lab_AE/data_lab_p4581/'"
   ]
  },
  {
   "cell_type": "code",
   "execution_count": null,
   "id": "22d08aa3-c883-49c8-a670-d7cefe07b073",
   "metadata": {},
   "outputs": [],
   "source": [
    "# AE data info\n",
    "Syncfile = loadmat(DATA_DIR+'ACTimeVector_4581.mat')\n",
    "acsettings = loadmat(DATA_DIR+'p4581_AE.mat')\n",
    "ACfile_DIR = DATA_DIR+'ACFiles/'\n",
    "\n",
    "# number of superframes per file\n",
    "numSFpfile = int(acsettings['numFrames'][0]/2)\n",
    "# number of WF per superframe and per channel\n",
    "numWFpSFpCH = int(acsettings['numAcqs'][0])\n",
    "# number of WF per file and per channel\n",
    "numWFpfilepCH = numSFpfile * numWFpSFpCH\n",
    "# number of channels\n",
    "numCHR = len(acsettings['channels2save'][0])\n",
    "# waveform length\n",
    "WFlength = int(acsettings['Nsamples'][0])\n",
    "# true number of points per file\n",
    "TruenumPointspfilepCH = numWFpfilepCH * WFlength\n",
    "\n",
    "print('numSFpfile', numSFpfile)\n",
    "print('numWFpSFpCH', numWFpSFpCH)\n",
    "print('numWFpfilepCH', numWFpfilepCH)\n",
    "print('numCHR', numCHR)\n",
    "print('WFlength', WFlength)\n",
    "print('TruenumPointspfilepCH', TruenumPointspfilepCH)"
   ]
  },
  {
   "cell_type": "code",
   "execution_count": null,
   "id": "870b66a9-3a23-42e0-9b24-08e5acc2b064",
   "metadata": {},
   "outputs": [],
   "source": [
    "seg_split = [\n",
    "    [2025.0, 2275.0, '2mpa_stepup', 220, 410], \n",
    "    [2325.0, 2525.0, '3mpa_stepup', 445, 600], \n",
    "    [2575.0, 2875.0, '4mpa_stepup', 630, 860], \n",
    "    [2925.0, 3175.0, '5mpa_stepup', 895, 1085], \n",
    "    [3225.0, 3475.0, '6mpa_stepup', 1120, 1310], \n",
    "    [3525.0, 3775.0, '7mpa_stepup', 1345, 1535], \n",
    "    [3825.0, 4075.0, '8mpa_stepup', 1565, 1760], \n",
    "    [4125.0, 4275.0, '7mpa_stepdown', 1790, 1910], \n",
    "    [4325.0, 4475.0, '6mpa_stepdown', 1940, 2060], \n",
    "    [4525.0, 4675.0, '5mpa_stepdown', 2090, 2210], \n",
    "    [4725.0, 4825.0, '4mpa_stepdown', 2240, 2320], \n",
    "]"
   ]
  },
  {
   "cell_type": "code",
   "execution_count": null,
   "id": "9b28ee9d-b477-48e5-9dcb-79a5cf427181",
   "metadata": {},
   "outputs": [],
   "source": [
    "for i_seg_split in seg_split:\n",
    "    start_time = i_seg_split[0]\n",
    "    end_time = i_seg_split[1]\n",
    "    seg_name = i_seg_split[2]\n",
    "    start_file_number = i_seg_split[3]\n",
    "    end_file_number = i_seg_split[4]\n",
    "    print('\\n', seg_name, start_time, end_time)\n",
    "    \n",
    "    with h5py.File(DATA_DIR+TEST_NAME+'_ae_data_'+seg_name+'.hdf5', \"w\") as f:\n",
    "      dset_ae = f.create_dataset('ae', (0, numCHR), maxshape=(None, numCHR), dtype='<i2')\n",
    "      dset_time = f.create_dataset('time', (0,), maxshape=(None,), dtype='<f8')\n",
    "      dset_time_seg = f.create_dataset('time_seg', (0,), maxshape=(None,), dtype='<f8')\n",
    "\n",
    "      dset_time_seg.attrs['WFlength'] = WFlength\n",
    "      dset_time_seg.attrs['numWFpfilepCH'] = numWFpfilepCH\n",
    "      dset_time_seg.attrs['TruenumPointspfilepCH'] = TruenumPointspfilepCH\n",
    "      \n",
    "      for filenumber in range(start_file_number, end_file_number):\n",
    "        dset_ae.resize(dset_ae.shape[0]+TruenumPointspfilepCH, axis=0)\n",
    "        dset_time.resize(dset_time.shape[0]+TruenumPointspfilepCH, axis=0)\n",
    "        dset_time_seg.resize(dset_time_seg.shape[0]+numWFpfilepCH, axis=0)\n",
    "\n",
    "        wf_ae, time_ae, time_ae_seg = get_ae_data_acfiles_v1(ACfile_DIR, acsettings, Syncfile, filenumber)\n",
    "\n",
    "        print('  writing ae file', filenumber, time_ae[0], time_ae[-1], wf_ae.shape, time_ae.shape, time_ae_seg.shape)\n",
    "\n",
    "        dset_ae[-TruenumPointspfilepCH:,:] = wf_ae\n",
    "        dset_time[-TruenumPointspfilepCH:] = time_ae\n",
    "        dset_time_seg[-numWFpfilepCH:] = time_ae_seg"
   ]
  }
 ],
 "metadata": {
  "kernelspec": {
   "display_name": "Python 3 (ipykernel)",
   "language": "python",
   "name": "python3"
  },
  "language_info": {
   "codemirror_mode": {
    "name": "ipython",
    "version": 3
   },
   "file_extension": ".py",
   "mimetype": "text/x-python",
   "name": "python",
   "nbconvert_exporter": "python",
   "pygments_lexer": "ipython3",
   "version": "3.8.13"
  }
 },
 "nbformat": 4,
 "nbformat_minor": 5
}

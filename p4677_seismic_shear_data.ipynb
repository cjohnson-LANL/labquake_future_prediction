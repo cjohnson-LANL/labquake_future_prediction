{
 "cells": [
  {
   "cell_type": "code",
   "execution_count": null,
   "id": "890b84e3-bdc5-45aa-a6c5-6b0b0036c766",
   "metadata": {},
   "outputs": [],
   "source": [
    "import os\n",
    "import numpy as np\n",
    "import tensorflow as tf\n",
    "print(tf.__version__)\n",
    "from scipy.io import loadmat\n",
    "import h5py\n",
    "import functools\n",
    "\n",
    "# %matplotlib widget\n",
    "import matplotlib.pyplot as plt\n",
    "import matplotlib as mpl\n",
    "mpl.rcParams.update({'font.size': 16})\n",
    "mpl.rcParams.update({'font.family': 'serif'})\n",
    "\n",
    "from utils_data import read_tfrecord_dataset\n",
    "\n",
    "TEST_NAME = 'p4677'\n",
    "DATA_DIR = '/misc/projects/criticalstress-ldrd/cwj/public/Lab_AE/data_lab_p4677/'"
   ]
  },
  {
   "cell_type": "code",
   "execution_count": null,
   "id": "70666623-d80c-43aa-9824-5fded16dd721",
   "metadata": {},
   "outputs": [],
   "source": [
    "if not os.path.exists('./Data/'):\n",
    "  os.makedirs('./Data/')\n",
    "\n",
    "# Mech data\n",
    "with h5py.File(DATA_DIR+TEST_NAME+'_mechdata.hdf5', 'r') as f:\n",
    "  time_mu = f.get('time')[:].astype(np.float64)\n",
    "  mu = f.get('mu')[:].astype(np.float32)\n",
    "\n",
    "# AE data info\n",
    "Syncfile = loadmat(DATA_DIR+'p4677_AcTimeVector_Run2.mat')\n",
    "acsettings = loadmat(DATA_DIR+'p4677_run2_AE.mat')\n",
    "\n",
    "acTime = Syncfile['acTime'][0,:]\n",
    "WFlength = int(acsettings['Nsamples'][0])\n",
    "acTime_dt = np.mean(acTime[1:]-acTime[:-1])/WFlength\n",
    "fs = 1.0/acTime_dt\n",
    "\n",
    "# parameters data\n",
    "params_data = {}\n",
    "params_data['sample_freq']        = 1e3\n",
    "params_data['ae_sample_freq']     = fs\n",
    "params_data['tfrecord_data_dir']  = DATA_DIR+TEST_NAME+'_data_tfrecord/'\n",
    "params_data['numCHR']             = len(acsettings['channels2save'][0])\n",
    "\n",
    "# AE dataset\n",
    "wf_ae_dataset = read_tfrecord_dataset(params_data)"
   ]
  },
  {
   "cell_type": "code",
   "execution_count": null,
   "id": "2dba9730-1cb8-4987-a5b5-f56146c10e1f",
   "metadata": {},
   "outputs": [],
   "source": [
    "from scipy import signal\n",
    "\n",
    "time_ae = []\n",
    "wf_ae = []\n",
    "ii = 0\n",
    "for ds in wf_ae_dataset:\n",
    "    if ii%100000==0: print(ii)\n",
    "    \n",
    "    wf_ae_i = ds['wf_ae'][0,:,:].numpy()\n",
    "    wf_ae_i = np.mean(wf_ae_i, axis=-1, keepdims=True)\n",
    "    wf_ae_i = signal.resample(wf_ae_i, num=4096, axis=0)\n",
    "    wf_ae_i = signal.decimate(wf_ae_i, 4, axis=0)\n",
    "    wf_ae_i = signal.decimate(wf_ae_i, 2, axis=0)\n",
    "    wf_ae.append(np.expand_dims(wf_ae_i, axis=0))\n",
    "    \n",
    "    t_win_i = ds['t_win'][0,:].numpy()\n",
    "    time_ae.append(t_win_i[0:1])\n",
    "    \n",
    "    ii += 1\n",
    "\n",
    "time_ae = np.concatenate(time_ae, axis=0).astype(np.float32)\n",
    "wf_ae = np.concatenate(wf_ae, axis=0).astype(np.float32)"
   ]
  },
  {
   "cell_type": "code",
   "execution_count": null,
   "id": "b3dae858-7c7d-4c14-8a78-a9934c6d784a",
   "metadata": {},
   "outputs": [],
   "source": [
    "print(time_ae.shape, wf_ae.shape)\n",
    "print(time_mu.shape, mu.shape)\n",
    "print(np.min(wf_ae), np.max(wf_ae))\n",
    "\n",
    "with h5py.File('./Data/p4677_seismic_data_2MPa.hdf5', 'w') as f:\n",
    "  f.create_dataset('time', data = time_ae)\n",
    "  f.create_dataset('wf_ae', data = wf_ae)\n",
    "\n",
    "with h5py.File('./Data/p4677_shear_data_2MPa.hdf5', 'w') as f:\n",
    "  f.create_dataset('time', data = time_mu)\n",
    "  f.create_dataset('mu', data = mu)"
   ]
  }
 ],
 "metadata": {
  "kernelspec": {
   "display_name": "Python 3 (ipykernel)",
   "language": "python",
   "name": "python3"
  },
  "language_info": {
   "codemirror_mode": {
    "name": "ipython",
    "version": 3
   },
   "file_extension": ".py",
   "mimetype": "text/x-python",
   "name": "python",
   "nbconvert_exporter": "python",
   "pygments_lexer": "ipython3",
   "version": "3.8.13"
  }
 },
 "nbformat": 4,
 "nbformat_minor": 5
}

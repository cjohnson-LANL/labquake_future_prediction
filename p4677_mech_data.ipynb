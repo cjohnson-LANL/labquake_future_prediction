{
 "cells": [
  {
   "cell_type": "code",
   "execution_count": null,
   "id": "55a832ca-54c7-44d2-b689-4e4579c0b01c",
   "metadata": {},
   "outputs": [],
   "source": [
    "import os\n",
    "import numpy as np\n",
    "import tensorflow as tf\n",
    "print(tf.__version__)\n",
    "from scipy.io import loadmat\n",
    "import h5py\n",
    "import functools\n",
    "\n",
    "# %matplotlib widget\n",
    "import matplotlib.pyplot as plt\n",
    "import matplotlib as mpl\n",
    "mpl.rcParams.update({'font.size': 16})\n",
    "mpl.rcParams.update({'font.family': 'serif'})\n",
    "\n",
    "from utils_data import get_t2f_data\n",
    "\n",
    "TEST_NAME = 'p4677'\n",
    "DATA_DIR = '/misc/projects/criticalstress-ldrd/cwj/public/Lab_AE/data_lab_p4677/'"
   ]
  },
  {
   "cell_type": "code",
   "execution_count": null,
   "id": "c9884c0d-2635-4c2b-b0be-06d1fc640f15",
   "metadata": {},
   "outputs": [],
   "source": [
    "with open(DATA_DIR+'Mechanical_Data/p4677_data.txt') as dataFile:\n",
    "  dataFileLines = dataFile.readlines()\n",
    "\n",
    "shear_data = []\n",
    "for i in range(5, len(dataFileLines)):\n",
    "  fileline = dataFileLines[i].split()\n",
    "  i_data = [fileline[5], fileline[2], fileline[4]]\n",
    "  shear_data.append(i_data)\n",
    "shear_data = np.array(shear_data, dtype=np.float32)\n",
    "\n",
    "time = shear_data[:,0]\n",
    "vert_load = shear_data[:,1]\n",
    "hor_load = shear_data[:,2]"
   ]
  },
  {
   "cell_type": "code",
   "execution_count": null,
   "id": "5a023688-bc01-4d46-b545-33a091d3905b",
   "metadata": {},
   "outputs": [],
   "source": [
    "fig = plt.figure(figsize=(16,4))\n",
    "ax = plt.gca()\n",
    "plt.plot(time, hor_load)\n",
    "plt.xlabel('Time [s]')\n",
    "plt.ylabel('Normal Stress [MPa]')\n",
    "plt.grid()\n",
    "\n",
    "fig = plt.figure(figsize=(16,4))\n",
    "ax = plt.gca()\n",
    "plt.plot(time, vert_load)\n",
    "plt.xlabel('Time [s]')\n",
    "plt.ylabel('Shear Stress [MPa]')\n",
    "plt.grid()\n",
    "\n",
    "fig = plt.figure(figsize=(16,4))\n",
    "ax = plt.gca()\n",
    "plt.plot(time, vert_load/hor_load)\n",
    "plt.xlabel('Time [s]')\n",
    "plt.ylabel('Shear Stress [MPa]')\n",
    "plt.grid()"
   ]
  },
  {
   "cell_type": "code",
   "execution_count": null,
   "id": "f165fe5f-8426-4863-8f53-d29b75524a04",
   "metadata": {},
   "outputs": [],
   "source": [
    "start_time = 2000.0\n",
    "end_time = 2600.0\n",
    "inds_sub = np.where((time>=start_time) & (time<=end_time))\n",
    "\n",
    "data_time = np.arange(start_time, end_time, 1.0, dtype=np.float64)\n",
    "data_time = np.repeat(data_time, 1000)\n",
    "data_time = np.reshape(data_time, [-1,1000])\n",
    "data_time = data_time + np.arange(0.0, 1.0, 0.001, dtype=np.float64)\n",
    "data_time = np.reshape(data_time, [-1,])\n",
    "\n",
    "time_trunc = data_time\n",
    "vert_load_trunc = vert_load[inds_sub][:int((end_time-start_time)*1000.0)]\n",
    "hor_load_trunc = hor_load[inds_sub][:int((end_time-start_time)*1000.0)]\n",
    "frict_coeff_trunc = vert_load_trunc/hor_load_trunc\n",
    "\n",
    "fig = plt.figure(figsize=(24,4))\n",
    "ax = plt.gca()\n",
    "plt.plot(time_trunc, hor_load_trunc)\n",
    "plt.xlabel('Time [s]')\n",
    "plt.ylabel('Normal Stress [Mpa]')\n",
    "plt.grid()\n",
    "\n",
    "fig = plt.figure(figsize=(24,4))\n",
    "ax = plt.gca()\n",
    "plt.plot(time_trunc, vert_load_trunc)\n",
    "plt.xlabel('Time [s]')\n",
    "plt.ylabel('Shear Stress [Mpa]')\n",
    "plt.grid()\n",
    "\n",
    "fig = plt.figure(figsize=(24,4))\n",
    "ax = plt.gca()\n",
    "plt.plot(time_trunc, frict_coeff_trunc)\n",
    "plt.xlabel('Time [s]')\n",
    "plt.ylabel('Friction coefficient')\n",
    "plt.grid()"
   ]
  },
  {
   "cell_type": "code",
   "execution_count": null,
   "id": "59da214f-925a-4374-a0f3-34ed3501eb50",
   "metadata": {},
   "outputs": [],
   "source": [
    "time_to_fail, fail_time = get_t2f_data(time_trunc, frict_coeff_trunc, grad_thld=-0.005, drop_thld=0.3, seg_len=int(1.0*1000))\n",
    "\n",
    "fig = plt.figure(figsize=(24,4))\n",
    "ax = plt.gca()\n",
    "plt.plot(time_trunc, time_to_fail)\n",
    "plt.plot(fail_time, np.zeros_like(fail_time), 'ro')\n",
    "plt.xlabel('Time [s]')\n",
    "plt.ylabel('T2F [s]')\n",
    "plt.grid()\n",
    "\n",
    "ax1 = ax.twinx()\n",
    "ax1.plot(time_trunc, frict_coeff_trunc, 'k--')"
   ]
  },
  {
   "cell_type": "code",
   "execution_count": null,
   "id": "86e5638b-d3ac-49dd-879c-18b868d6dac7",
   "metadata": {},
   "outputs": [],
   "source": [
    "with h5py.File(DATA_DIR+TEST_NAME+'_mechdata.hdf5', 'w') as f:\n",
    "  f.create_dataset('time', data = time_trunc)\n",
    "  f.create_dataset('mu', data = frict_coeff_trunc)\n",
    "  f.create_dataset('t2f', data = time_to_fail)\n",
    "  f.create_dataset('tfail', data = fail_time)"
   ]
  }
 ],
 "metadata": {
  "kernelspec": {
   "display_name": "Python 3 (ipykernel)",
   "language": "python",
   "name": "python3"
  },
  "language_info": {
   "codemirror_mode": {
    "name": "ipython",
    "version": 3
   },
   "file_extension": ".py",
   "mimetype": "text/x-python",
   "name": "python",
   "nbconvert_exporter": "python",
   "pygments_lexer": "ipython3",
   "version": "3.8.13"
  }
 },
 "nbformat": 4,
 "nbformat_minor": 5
}

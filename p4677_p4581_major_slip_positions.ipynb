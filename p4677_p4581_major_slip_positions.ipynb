{
 "cells": [
  {
   "cell_type": "code",
   "execution_count": null,
   "id": "6d7f33b6-e4ab-4cc6-b3d5-49d9ff64f8ac",
   "metadata": {},
   "outputs": [],
   "source": [
    "import os\n",
    "import time\n",
    "import joblib\n",
    "import h5py\n",
    "import random as python_random\n",
    "\n",
    "import tensorflow as tf\n",
    "import numpy as np\n",
    "import scipy as sp\n",
    "\n",
    "gpus = tf.config.list_physical_devices('GPU')\n",
    "for gpu in gpus:\n",
    "  tf.config.experimental.set_memory_growth(gpu, True)\n",
    "print(len(gpus), \"Physical GPUs\")\n",
    "\n",
    "# %matplotlib widget\n",
    "import matplotlib as mpl\n",
    "import matplotlib.pyplot as plt\n",
    "mpl.rcParams.update({'font.size': 16})\n",
    "mpl.rcParams.update({'font.family': 'serif'})\n",
    "\n",
    "from utils_data_windows import LOAD_DATA, readSeismicData, getWindowDataDict\n",
    "from utils_data_windows import get_data_scaler, data_scaler_transform\n",
    "from utils_data_windows import get_mu_slip_loc_data, get_mu_slip_loc_data_with_index\n",
    "\n",
    "seed_value = 1234\n",
    "python_random.seed(seed_value)\n",
    "np.random.seed(seed_value)\n",
    "tf.random.set_seed(seed_value)"
   ]
  },
  {
   "cell_type": "code",
   "execution_count": null,
   "id": "b950afac-90fb-40bb-8ae5-cbb1232fc306",
   "metadata": {},
   "outputs": [],
   "source": [
    "verbose = 1\n",
    "\n",
    "# parameters data dict\n",
    "params_data = {}\n",
    "params_data['filenames_train']    = ['./Data/p4677_seismic_data_2MPa.hdf5', './Data/p4677_shear_data_2MPa.hdf5']\n",
    "params_data['train_data_split']   = 0.6\n",
    "params_data['valid_data_split']   = 0.4\n",
    "\n",
    "params_data['in_scaler_mode']     = 'standard'\n",
    "params_data['out_scaler_mode']    = 'standard'\n",
    "params_data['sample_freq']        = 1000.0\n",
    "params_data['unit_time_intvl']    = 0.008\n",
    "params_data['num_in_time_intvl']  = 32\n",
    "params_data['num_out_time_intvl'] = 32\n",
    "params_data['in_time_intvl']      = params_data['unit_time_intvl'] * params_data['num_in_time_intvl']\n",
    "params_data['out_time_intvl']     = params_data['unit_time_intvl'] * params_data['num_out_time_intvl']\n",
    "params_data['in_out_time_diff']   = params_data['in_time_intvl']\n",
    "params_data['time_advance']       = params_data['out_time_intvl']\n",
    "\n",
    "params_data['batch_size']         = 64\n",
    "params_data['shuffle_buffer']     = int(1e6)\n",
    "\n",
    "params_data['tfrecord_window_data'] = './tfrecord_window_data_'+str(params_data['in_time_intvl'])+'_'+str(params_data['out_time_intvl'])+'/'"
   ]
  },
  {
   "cell_type": "code",
   "execution_count": null,
   "id": "2ae2862f-16a1-4db1-a455-9cf1d703f8af",
   "metadata": {},
   "outputs": [],
   "source": [
    "# Read Train/Valid data\n",
    "start_time = time.time()\n",
    "print('Load Data')\n",
    "\n",
    "train_data, valid_data, input_scaler, output_scaler = LOAD_DATA(params_data)\n",
    "params_data['input_scaler']   = input_scaler\n",
    "params_data['output_scaler']  = output_scaler\n",
    "\n",
    "print('\\nLoad Data Time', time.time()-start_time, 's')"
   ]
  },
  {
   "cell_type": "code",
   "execution_count": null,
   "id": "964d7bcf-bcce-4e09-9275-f4717ae5766f",
   "metadata": {},
   "outputs": [],
   "source": [
    "# Get major slips\n",
    "params_data['slip_seg_size']      = 10\n",
    "params_data['slip_range_throld']  = 3.0\n",
    "params_data['slip_diff_throld']   = -0.4\n",
    "\n",
    "mu_slip_loc_train, mu_slip_index_train, mu_slip_pos_train = get_mu_slip_loc_data(params_data, train_data['y_data'])\n",
    "print(mu_slip_loc_train.shape, mu_slip_index_train.shape, mu_slip_pos_train.shape)\n",
    "print(mu_slip_index_train)\n",
    "\n",
    "print('')\n",
    "\n",
    "mu_slip_loc_val, mu_slip_index_val, mu_slip_pos_val = get_mu_slip_loc_data(params_data, valid_data['y_data'])\n",
    "print(mu_slip_loc_val.shape, mu_slip_index_val.shape, mu_slip_pos_val.shape)\n",
    "print(mu_slip_index_val)\n",
    "\n",
    "np.save('./Data/p4677_train_fail_index.npy', mu_slip_pos_train)\n",
    "np.save('./Data/p4677_valid_fail_index.npy', mu_slip_pos_val)"
   ]
  },
  {
   "cell_type": "code",
   "execution_count": null,
   "id": "af2e925e-a2bf-4d20-9df5-e90a823d143b",
   "metadata": {},
   "outputs": [],
   "source": [
    "filenames_test = ['./Data/p4581_seismic_data_3mpa_stepup.hdf5', './Data/p4581_shear_data_3mpa_stepup.hdf5']\n",
    "\n",
    "# Read data\n",
    "start_time = time.time()\n",
    "print('\\nLoad Test Data')\n",
    "signalData = readSeismicData(filenames_test)\n",
    "numSignal = signalData['time'].shape[0]\n",
    "\n",
    "# Input/output scalers\n",
    "numDataScaler = int(numSignal*0.5)\n",
    "input_scaler_test = get_data_scaler(signalData['ae'][:numDataScaler], params_data['in_scaler_mode'])\n",
    "output_scaler_test = get_data_scaler(signalData['mu'][:numDataScaler], params_data['out_scaler_mode'])\n",
    "\n",
    "# Scaled data\n",
    "input_signal_test = data_scaler_transform(signalData['ae'], input_scaler_test)\n",
    "output_signal_test = data_scaler_transform(signalData['mu'], output_scaler_test)\n",
    "\n",
    "# Test Data\n",
    "test_data = getWindowDataDict(params_data, input_signal_test, output_signal_test, signalData['time'])\n",
    "\n",
    "print('\\nLoad Data Time', time.time()-start_time, 's')"
   ]
  },
  {
   "cell_type": "code",
   "execution_count": null,
   "id": "49b0f21b-3651-4408-92ad-ae3942016a40",
   "metadata": {},
   "outputs": [],
   "source": [
    "# Get major slips\n",
    "params_data['slip_seg_size']      = 10\n",
    "params_data['slip_range_throld']  = 2.5\n",
    "params_data['slip_diff_throld']   = -0.5\n",
    "\n",
    "mu_slip_loc_test, mu_slip_index_test, mu_slip_pos_test = get_mu_slip_loc_data(params_data, test_data['y_data'])\n",
    "print(mu_slip_loc_test.shape, mu_slip_index_test.shape, mu_slip_pos_test.shape)\n",
    "print(mu_slip_index_test)\n",
    "\n",
    "np.save('./Data/p4581_3mpa_stepup_fail_index.npy', mu_slip_pos_test)"
   ]
  }
 ],
 "metadata": {
  "kernelspec": {
   "display_name": "Python 3 (ipykernel)",
   "language": "python",
   "name": "python3"
  },
  "language_info": {
   "codemirror_mode": {
    "name": "ipython",
    "version": 3
   },
   "file_extension": ".py",
   "mimetype": "text/x-python",
   "name": "python",
   "nbconvert_exporter": "python",
   "pygments_lexer": "ipython3",
   "version": "3.8.13"
  }
 },
 "nbformat": 4,
 "nbformat_minor": 5
}

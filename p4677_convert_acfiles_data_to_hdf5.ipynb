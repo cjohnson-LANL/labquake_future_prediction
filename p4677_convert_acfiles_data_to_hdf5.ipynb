{
 "cells": [
  {
   "cell_type": "code",
   "execution_count": null,
   "id": "9a39e9fc-75b2-41e9-9106-df44aaee8566",
   "metadata": {},
   "outputs": [],
   "source": [
    "import os\n",
    "import numpy as np\n",
    "import tensorflow as tf\n",
    "print(tf.__version__)\n",
    "from scipy.io import loadmat\n",
    "import h5py\n",
    "import functools\n",
    "\n",
    "# %matplotlib widget\n",
    "import matplotlib.pyplot as plt\n",
    "import matplotlib as mpl\n",
    "mpl.rcParams.update({'font.size': 16})\n",
    "mpl.rcParams.update({'font.family': 'serif'})\n",
    "\n",
    "from utils_data import get_ae_data_acfiles_v1\n",
    "\n",
    "TEST_NAME = 'p4677'\n",
    "DATA_DIR = '/misc/projects/criticalstress-ldrd/cwj/public/Lab_AE/data_lab_p4677/'"
   ]
  },
  {
   "cell_type": "code",
   "execution_count": null,
   "id": "22d08aa3-c883-49c8-a670-d7cefe07b073",
   "metadata": {},
   "outputs": [],
   "source": [
    "# Mech data\n",
    "with h5py.File(DATA_DIR+TEST_NAME+'_mechdata.hdf5', 'r') as f:\n",
    "  time_mech = f.get('time')[:]\n",
    "  mu = f.get('mu')[:]\n",
    "  t2f = f.get('t2f')[:]\n",
    "  tfail = f.get('tfail')[:]\n",
    "print('tfail', tfail)\n",
    "\n",
    "# AE data info\n",
    "Syncfile = loadmat(DATA_DIR+'p4677_AcTimeVector_Run2.mat')\n",
    "acsettings = loadmat(DATA_DIR+'p4677_run2_AE.mat')\n",
    "ACfile_DIR = DATA_DIR+'run2/AcFiles/'\n",
    "\n",
    "# number of superframes per file\n",
    "numSFpfile = int(acsettings['numFrames'][0]/2)\n",
    "# number of WF per superframe and per channel\n",
    "numWFpSFpCH = int(acsettings['numAcqs'][0])\n",
    "# number of WF per file and per channel\n",
    "numWFpfilepCH = numSFpfile * numWFpSFpCH\n",
    "# number of channels\n",
    "numCHR = len(acsettings['channels2save'][0])\n",
    "# waveform length\n",
    "WFlength = int(acsettings['Nsamples'][0])\n",
    "# true number of points per file\n",
    "TruenumPointspfilepCH = numWFpfilepCH * WFlength\n",
    "\n",
    "print('numSFpfile', numSFpfile)\n",
    "print('numWFpSFpCH', numWFpSFpCH)\n",
    "print('numWFpfilepCH', numWFpfilepCH)\n",
    "print('numCHR', numCHR)\n",
    "print('WFlength', WFlength)\n",
    "print('TruenumPointspfilepCH', TruenumPointspfilepCH)"
   ]
  },
  {
   "cell_type": "code",
   "execution_count": null,
   "id": "e76732b6-7476-4244-b876-75d7bff7a331",
   "metadata": {},
   "outputs": [],
   "source": [
    "fig, ax = plt.subplots(nrows=2, figsize=(16,8), sharex=True)\n",
    "fig.subplots_adjust(hspace=0.0)\n",
    "\n",
    "ax[-2].plot(time_mech, mu, 'b-', linewidth=1.0)\n",
    "ax[-2].set_xlabel('Time [s]')\n",
    "ax[-2].set_ylabel('Friction coefficient')\n",
    "ax[-2].grid()\n",
    "ax[-2].xaxis.set_major_formatter(mpl.ticker.FormatStrFormatter('%.3f'))\n",
    "\n",
    "ax[-1].plot(time_mech, t2f, 'k-', linewidth=1.0)\n",
    "ax[-1].plot(tfail, np.zeros_like(tfail), 'ro')\n",
    "ax[-1].set_xlabel('Time [s]')\n",
    "ax[-1].set_ylabel('T2F [s]')\n",
    "ax[-1].grid()\n",
    "ax[-1].xaxis.set_major_formatter(mpl.ticker.FormatStrFormatter('%.3f'))"
   ]
  },
  {
   "cell_type": "code",
   "execution_count": null,
   "id": "39da471d-682f-400e-8620-98678d1b6d1b",
   "metadata": {},
   "outputs": [],
   "source": [
    "start_file_number = 40\n",
    "end_file_number = 485\n",
    "\n",
    "wf_ae, time_ae, time_ae_seg = get_ae_data_acfiles_v1(ACfile_DIR, acsettings, Syncfile, start_file_number)\n",
    "print(wf_ae.shape, time_ae.shape, time_ae_seg.shape)\n",
    "print(time_ae)\n",
    "\n",
    "fig = plt.figure(figsize=(16,4))\n",
    "ax = plt.gca()\n",
    "plt.plot(time_ae, wf_ae[:,0], 'k-')\n",
    "plt.xlabel('Time [s]')\n",
    "plt.ylabel('AE')\n",
    "plt.grid()"
   ]
  },
  {
   "cell_type": "code",
   "execution_count": null,
   "id": "3e4966d0-5973-42d3-8c43-96022bb3db8d",
   "metadata": {},
   "outputs": [],
   "source": [
    "wf_ae, time_ae, time_ae_seg = get_ae_data_acfiles_v1(ACfile_DIR, acsettings, Syncfile, end_file_number)\n",
    "print(wf_ae.shape, time_ae.shape, time_ae_seg.shape)\n",
    "print(time_ae)\n",
    "\n",
    "fig = plt.figure(figsize=(16,4))\n",
    "ax = plt.gca()\n",
    "plt.plot(time_ae, wf_ae[:,0], 'k-')\n",
    "plt.xlabel('Time [s]')\n",
    "plt.ylabel('AE')\n",
    "plt.grid()"
   ]
  },
  {
   "cell_type": "code",
   "execution_count": null,
   "id": "9b28ee9d-b477-48e5-9dcb-79a5cf427181",
   "metadata": {},
   "outputs": [],
   "source": [
    "with h5py.File(DATA_DIR+TEST_NAME+'_ae_data.hdf5', \"w\") as f:\n",
    "  dset_ae = f.create_dataset('ae', (0, numCHR), maxshape=(None, numCHR), dtype='<i2')\n",
    "  dset_time = f.create_dataset('time', (0,), maxshape=(None,), dtype='<f8')\n",
    "  dset_time_seg = f.create_dataset('time_seg', (0,), maxshape=(None,), dtype='<f8')\n",
    "  \n",
    "  dset_time_seg.attrs['WFlength'] = WFlength\n",
    "  dset_time_seg.attrs['numWFpfilepCH'] = numWFpfilepCH\n",
    "  dset_time_seg.attrs['TruenumPointspfilepCH'] = TruenumPointspfilepCH\n",
    "  \n",
    "  for filenumber in range(start_file_number, end_file_number):\n",
    "    dset_ae.resize(dset_ae.shape[0]+TruenumPointspfilepCH, axis=0)\n",
    "    dset_time.resize(dset_time.shape[0]+TruenumPointspfilepCH, axis=0)\n",
    "    dset_time_seg.resize(dset_time_seg.shape[0]+numWFpfilepCH, axis=0)\n",
    "    \n",
    "    wf_ae, time_ae, time_ae_seg = get_ae_data_acfiles_v1(ACfile_DIR, acsettings, Syncfile, filenumber)\n",
    "    \n",
    "    print('  writing ae file', filenumber, time_ae[0], time_ae[-1], wf_ae.shape, time_ae.shape, time_ae_seg.shape)\n",
    "    \n",
    "    dset_ae[-TruenumPointspfilepCH:,:] = wf_ae\n",
    "    dset_time[-TruenumPointspfilepCH:] = time_ae\n",
    "    dset_time_seg[-numWFpfilepCH:] = time_ae_seg"
   ]
  }
 ],
 "metadata": {
  "kernelspec": {
   "display_name": "Python 3 (ipykernel)",
   "language": "python",
   "name": "python3"
  },
  "language_info": {
   "codemirror_mode": {
    "name": "ipython",
    "version": 3
   },
   "file_extension": ".py",
   "mimetype": "text/x-python",
   "name": "python",
   "nbconvert_exporter": "python",
   "pygments_lexer": "ipython3",
   "version": "3.8.13"
  }
 },
 "nbformat": 4,
 "nbformat_minor": 5
}
